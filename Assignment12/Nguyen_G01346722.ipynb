{
 "cells": [
  {
   "cell_type": "markdown",
   "id": "8615a939",
   "metadata": {},
   "source": [
    "### AIT580 Spring 2022 - Assignment 12\n",
    "#### Tuan Nguyen\n",
    "#### G01346722"
   ]
  },
  {
   "cell_type": "code",
   "execution_count": 9,
   "id": "c626c690",
   "metadata": {},
   "outputs": [
    {
     "name": "stdout",
     "output_type": "stream",
     "text": [
      "done\n"
     ]
    }
   ],
   "source": [
    "#Import libraries\n",
    "from bs4 import BeautifulSoup\n",
    "import urllib\n",
    "import csv\n",
    "import pandas as pd\n",
    "import matplotlib.pyplot as plt\n",
    "\n",
    "print('done')"
   ]
  },
  {
   "cell_type": "markdown",
   "id": "591f88e7",
   "metadata": {},
   "source": [
    "#### 1. Write Python code using the BeautifulSoup package to generate the csv output file:"
   ]
  },
  {
   "cell_type": "code",
   "execution_count": 10,
   "id": "f81bde6b",
   "metadata": {},
   "outputs": [],
   "source": [
    "URL = \"https://repo.vse.gmu.edu/ait/AIT580/580books.html\"\n",
    "\n",
    "source = urllib.request.urlopen(URL).read()\n",
    "\n",
    "soup = BeautifulSoup(source,'lxml')"
   ]
  },
  {
   "cell_type": "code",
   "execution_count": 11,
   "id": "0acbf7b9",
   "metadata": {
    "scrolled": true
   },
   "outputs": [
    {
     "name": "stdout",
     "output_type": "stream",
     "text": [
      "[[\"Learning Python; Mark Lutz; O'Reilly Media; June 2013\"], [\"Web Scraping with Python; Ryan Mitchell; O'Reilly Media; November 2017\"], ['Python Coding for Kids; Don Wilcher; Maker Media, Inc; September 2017'], ['Python Machine Learning By Example; Yuxi Liu; Packt Publishing; May 2017'], ['Python Data Structures and Algorithms; Benjamin Baka; Packt Publishing; May 2017'], [\"Python in a Nutshell; Alex Martelli, Anna Ravenscroft, Steve Holden; O'Reilly Media; April 2017\"], ['Invent Your Own Computer Games with Python; Al Sweigart; No Starch Press; December 2016'], [\"Head First Python; Paul Barry; O'Reilly Media; November 2016\"], ['Integrating Python with Leading Computer Forensics Platforms; Chet Hosmer; Elsevier / Syngress; September 2016'], ['Data Science Essentials in Python; Dmitry Zinoviev; Pragmatic Bookshelf; August 2016']]\n"
     ]
    }
   ],
   "source": [
    "#Extract texts from 'li' container to a list\n",
    "\n",
    "literature = []\n",
    "#titles = []\n",
    "#authors = []\n",
    "#dates = []\n",
    "#pubs = []\n",
    "\n",
    "for li in (soup.find_all('li')):\n",
    "    temp = []\n",
    "    temp.append(li.text)\n",
    "    literature.append(temp)\n",
    "    #titles.append(li.booktitle.text)\n",
    "    #authors.append(li.author.text)\n",
    "    #pubs.append(li.publisher.text)\n",
    "    #dates.append(li.release.text)\n",
    "    \n",
    "#print(titles,authors,pubs,dates)\n",
    "#print(len(titles),len(authors),len(pubs),len(dates))\n",
    "\n",
    "print(literature)"
   ]
  },
  {
   "cell_type": "code",
   "execution_count": 12,
   "id": "962d0dd9",
   "metadata": {},
   "outputs": [],
   "source": [
    "#Create csv file\n",
    "\n",
    "filepath = \"D:/Work/GMU -US/Spring 2022/AIT 580/Nguyen_AIT580/Assignment12/PyBook.csv\"\n",
    "\n",
    "with open(filepath, 'w', newline='') as myfile:\n",
    "     writer = csv.writer(myfile,quoting=csv.QUOTE_ALL)\n",
    "     writer.writerows(literature)"
   ]
  },
  {
   "cell_type": "markdown",
   "id": "18f8d611",
   "metadata": {},
   "source": [
    "#### 2. Read the output csv file from part 1 and write python code to answer questions:"
   ]
  },
  {
   "cell_type": "code",
   "execution_count": 13,
   "id": "6945809a",
   "metadata": {
    "scrolled": true
   },
   "outputs": [
    {
     "data": {
      "text/html": [
       "<div>\n",
       "<style scoped>\n",
       "    .dataframe tbody tr th:only-of-type {\n",
       "        vertical-align: middle;\n",
       "    }\n",
       "\n",
       "    .dataframe tbody tr th {\n",
       "        vertical-align: top;\n",
       "    }\n",
       "\n",
       "    .dataframe thead th {\n",
       "        text-align: right;\n",
       "    }\n",
       "</style>\n",
       "<table border=\"1\" class=\"dataframe\">\n",
       "  <thead>\n",
       "    <tr style=\"text-align: right;\">\n",
       "      <th></th>\n",
       "      <th>Title</th>\n",
       "      <th>Authors</th>\n",
       "      <th>Publishers</th>\n",
       "      <th>Release Date</th>\n",
       "    </tr>\n",
       "  </thead>\n",
       "  <tbody>\n",
       "    <tr>\n",
       "      <th>0</th>\n",
       "      <td>Learning Python</td>\n",
       "      <td>Mark Lutz</td>\n",
       "      <td>O'Reilly Media</td>\n",
       "      <td>June 2013</td>\n",
       "    </tr>\n",
       "    <tr>\n",
       "      <th>1</th>\n",
       "      <td>Web Scraping with Python</td>\n",
       "      <td>Ryan Mitchell</td>\n",
       "      <td>O'Reilly Media</td>\n",
       "      <td>November 2017</td>\n",
       "    </tr>\n",
       "    <tr>\n",
       "      <th>2</th>\n",
       "      <td>Python Coding for Kids</td>\n",
       "      <td>Don Wilcher</td>\n",
       "      <td>Maker Media, Inc</td>\n",
       "      <td>September 2017</td>\n",
       "    </tr>\n",
       "    <tr>\n",
       "      <th>3</th>\n",
       "      <td>Python Machine Learning By Example</td>\n",
       "      <td>Yuxi Liu</td>\n",
       "      <td>Packt Publishing</td>\n",
       "      <td>May 2017</td>\n",
       "    </tr>\n",
       "    <tr>\n",
       "      <th>4</th>\n",
       "      <td>Python Data Structures and Algorithms</td>\n",
       "      <td>Benjamin Baka</td>\n",
       "      <td>Packt Publishing</td>\n",
       "      <td>May 2017</td>\n",
       "    </tr>\n",
       "  </tbody>\n",
       "</table>\n",
       "</div>"
      ],
      "text/plain": [
       "                                   Title         Authors         Publishers  \\\n",
       "0                        Learning Python       Mark Lutz     O'Reilly Media   \n",
       "1               Web Scraping with Python   Ryan Mitchell     O'Reilly Media   \n",
       "2                 Python Coding for Kids     Don Wilcher   Maker Media, Inc   \n",
       "3     Python Machine Learning By Example        Yuxi Liu   Packt Publishing   \n",
       "4  Python Data Structures and Algorithms   Benjamin Baka   Packt Publishing   \n",
       "\n",
       "      Release Date  \n",
       "0        June 2013  \n",
       "1    November 2017  \n",
       "2   September 2017  \n",
       "3         May 2017  \n",
       "4         May 2017  "
      ]
     },
     "execution_count": 13,
     "metadata": {},
     "output_type": "execute_result"
    }
   ],
   "source": [
    "#Read and transform csv into dataframe\n",
    "\n",
    "df = pd.read_csv(filepath, header = None)\n",
    "df1 = df[0].str.split(\";\", expand=True)\n",
    "df1.columns = ['Title', 'Authors', 'Publishers', 'Release Date']\n",
    "df1.head()"
   ]
  },
  {
   "cell_type": "markdown",
   "id": "45ec1d92",
   "metadata": {},
   "source": [
    "##### a. Print the frequency count for publishers"
   ]
  },
  {
   "cell_type": "code",
   "execution_count": 14,
   "id": "ef82532b",
   "metadata": {
    "scrolled": false
   },
   "outputs": [
    {
     "name": "stdout",
     "output_type": "stream",
     "text": [
      "                      Title  Authors  Release Date\n",
      "Publishers                                        \n",
      " Elsevier / Syngress      1        1             1\n",
      " Maker Media, Inc         1        1             1\n",
      " No Starch Press          1        1             1\n",
      " O'Reilly Media           4        4             4\n",
      " Packt Publishing         2        2             2\n",
      " Pragmatic Bookshelf      1        1             1\n"
     ]
    }
   ],
   "source": [
    "#Get the publisher title count for each publisher\n",
    "chart1 = df1.groupby('Publishers').count()\n",
    "print(chart1)"
   ]
  },
  {
   "cell_type": "markdown",
   "id": "bbfff2db",
   "metadata": {},
   "source": [
    "##### b. Visualize the output of (a) using a chart"
   ]
  },
  {
   "cell_type": "code",
   "execution_count": 15,
   "id": "f96be32d",
   "metadata": {},
   "outputs": [
    {
     "data": {
      "text/html": [
       "<div>\n",
       "<style scoped>\n",
       "    .dataframe tbody tr th:only-of-type {\n",
       "        vertical-align: middle;\n",
       "    }\n",
       "\n",
       "    .dataframe tbody tr th {\n",
       "        vertical-align: top;\n",
       "    }\n",
       "\n",
       "    .dataframe thead th {\n",
       "        text-align: right;\n",
       "    }\n",
       "</style>\n",
       "<table border=\"1\" class=\"dataframe\">\n",
       "  <thead>\n",
       "    <tr style=\"text-align: right;\">\n",
       "      <th></th>\n",
       "      <th>Publishers</th>\n",
       "      <th>Title</th>\n",
       "      <th>Authors</th>\n",
       "      <th>Release Date</th>\n",
       "    </tr>\n",
       "  </thead>\n",
       "  <tbody>\n",
       "    <tr>\n",
       "      <th>0</th>\n",
       "      <td>Elsevier / Syngress</td>\n",
       "      <td>1</td>\n",
       "      <td>1</td>\n",
       "      <td>1</td>\n",
       "    </tr>\n",
       "    <tr>\n",
       "      <th>1</th>\n",
       "      <td>Maker Media, Inc</td>\n",
       "      <td>1</td>\n",
       "      <td>1</td>\n",
       "      <td>1</td>\n",
       "    </tr>\n",
       "    <tr>\n",
       "      <th>2</th>\n",
       "      <td>No Starch Press</td>\n",
       "      <td>1</td>\n",
       "      <td>1</td>\n",
       "      <td>1</td>\n",
       "    </tr>\n",
       "    <tr>\n",
       "      <th>3</th>\n",
       "      <td>O'Reilly Media</td>\n",
       "      <td>4</td>\n",
       "      <td>4</td>\n",
       "      <td>4</td>\n",
       "    </tr>\n",
       "    <tr>\n",
       "      <th>4</th>\n",
       "      <td>Packt Publishing</td>\n",
       "      <td>2</td>\n",
       "      <td>2</td>\n",
       "      <td>2</td>\n",
       "    </tr>\n",
       "    <tr>\n",
       "      <th>5</th>\n",
       "      <td>Pragmatic Bookshelf</td>\n",
       "      <td>1</td>\n",
       "      <td>1</td>\n",
       "      <td>1</td>\n",
       "    </tr>\n",
       "  </tbody>\n",
       "</table>\n",
       "</div>"
      ],
      "text/plain": [
       "             Publishers  Title  Authors  Release Date\n",
       "0   Elsevier / Syngress      1        1             1\n",
       "1      Maker Media, Inc      1        1             1\n",
       "2       No Starch Press      1        1             1\n",
       "3        O'Reilly Media      4        4             4\n",
       "4      Packt Publishing      2        2             2\n",
       "5   Pragmatic Bookshelf      1        1             1"
      ]
     },
     "execution_count": 15,
     "metadata": {},
     "output_type": "execute_result"
    }
   ],
   "source": [
    "#Insert the publisher row name as new column\n",
    "chart1.index.name = 'Publishers'\n",
    "chart1.reset_index(inplace=True)\n",
    "chart1"
   ]
  },
  {
   "cell_type": "code",
   "execution_count": 16,
   "id": "826748e6",
   "metadata": {
    "scrolled": true
   },
   "outputs": [
    {
     "data": {
      "image/png": "[encoded data removed]",
      "text/plain": [
       "<Figure size 432x288 with 1 Axes>"
      ]
     },
     "metadata": {
      "needs_background": "light"
     },
     "output_type": "display_data"
    }
   ],
   "source": [
    "#Plot a bar chart with x = publisher and y = number of title\n",
    "fig = plt.figure()\n",
    "ax = fig.add_axes([0,0,1.5,1.5])\n",
    "pubs = chart1['Publishers']\n",
    "titl = chart1['Title']\n",
    "ax.bar(pubs,titl)\n",
    "plt.show()"
   ]
  },
  {
   "cell_type": "markdown",
   "id": "7c6ef07e",
   "metadata": {},
   "source": [
    "##### c. Print the frequency count for year of publication"
   ]
  },
  {
   "cell_type": "code",
   "execution_count": 17,
   "id": "d0e2cb72",
   "metadata": {},
   "outputs": [
    {
     "data": {
      "text/html": [
       "<div>\n",
       "<style scoped>\n",
       "    .dataframe tbody tr th:only-of-type {\n",
       "        vertical-align: middle;\n",
       "    }\n",
       "\n",
       "    .dataframe tbody tr th {\n",
       "        vertical-align: top;\n",
       "    }\n",
       "\n",
       "    .dataframe thead th {\n",
       "        text-align: right;\n",
       "    }\n",
       "</style>\n",
       "<table border=\"1\" class=\"dataframe\">\n",
       "  <thead>\n",
       "    <tr style=\"text-align: right;\">\n",
       "      <th></th>\n",
       "      <th>Index</th>\n",
       "      <th>Month</th>\n",
       "      <th>Year</th>\n",
       "    </tr>\n",
       "  </thead>\n",
       "  <tbody>\n",
       "    <tr>\n",
       "      <th>0</th>\n",
       "      <td></td>\n",
       "      <td>June</td>\n",
       "      <td>2013</td>\n",
       "    </tr>\n",
       "    <tr>\n",
       "      <th>1</th>\n",
       "      <td></td>\n",
       "      <td>November</td>\n",
       "      <td>2017</td>\n",
       "    </tr>\n",
       "    <tr>\n",
       "      <th>2</th>\n",
       "      <td></td>\n",
       "      <td>September</td>\n",
       "      <td>2017</td>\n",
       "    </tr>\n",
       "    <tr>\n",
       "      <th>3</th>\n",
       "      <td></td>\n",
       "      <td>May</td>\n",
       "      <td>2017</td>\n",
       "    </tr>\n",
       "    <tr>\n",
       "      <th>4</th>\n",
       "      <td></td>\n",
       "      <td>May</td>\n",
       "      <td>2017</td>\n",
       "    </tr>\n",
       "  </tbody>\n",
       "</table>\n",
       "</div>"
      ],
      "text/plain": [
       "  Index      Month  Year\n",
       "0             June  2013\n",
       "1         November  2017\n",
       "2        September  2017\n",
       "3              May  2017\n",
       "4              May  2017"
      ]
     },
     "execution_count": 17,
     "metadata": {},
     "output_type": "execute_result"
    }
   ],
   "source": [
    "#Split the Release Date column into a new dataframe with 3 columns for index, Month and year\n",
    "df2 = df1['Release Date'].str.split(\" \", expand=True)\n",
    "df2.columns = ['Index','Month','Year']\n",
    "df2.head()"
   ]
  },
  {
   "cell_type": "code",
   "execution_count": 18,
   "id": "fffa9c42",
   "metadata": {},
   "outputs": [
    {
     "name": "stdout",
     "output_type": "stream",
     "text": [
      "   Year  Index  Month\n",
      "0  2013      1      1\n",
      "1  2016      4      4\n",
      "2  2017      5      5\n"
     ]
    }
   ],
   "source": [
    "#Repeat the same procedure for previous chart\n",
    "#This show the frequency of titles for each year\n",
    "\n",
    "chart2 = df2.groupby('Year').count()\n",
    "chart2.index.name = 'Year'\n",
    "chart2.reset_index(inplace=True)\n",
    "print(chart2)"
   ]
  },
  {
   "cell_type": "markdown",
   "id": "37062f54",
   "metadata": {},
   "source": [
    "##### d. Visualize the output of (b) using a chart"
   ]
  },
  {
   "cell_type": "code",
   "execution_count": 19,
   "id": "1046a53b",
   "metadata": {
    "scrolled": true
   },
   "outputs": [
    {
     "data": {
      "image/png": "[encoded data removed]",
      "text/plain": [
       "<Figure size 432x288 with 1 Axes>"
      ]
     },
     "metadata": {
      "needs_background": "light"
     },
     "output_type": "display_data"
    }
   ],
   "source": [
    "#Create chart\n",
    "fig2 = plt.figure()\n",
    "ax = fig2.add_axes([0,0,1.5,1.5])\n",
    "year = chart2['Year']\n",
    "title = chart2['Index']\n",
    "ax.bar(year,title)\n",
    "plt.show()"
   ]
  },
  {
   "cell_type": "code",
   "execution_count": null,
   "id": "cd2a8636",
   "metadata": {},
   "outputs": [],
   "source": []
  }
 ],
 "metadata": {
  "kernelspec": {
   "display_name": "Python 3 (ipykernel)",
   "language": "python",
   "name": "python3"
  },
  "language_info": {
   "codemirror_mode": {
    "name": "ipython",
    "version": 3
   },
   "file_extension": ".py",
   "mimetype": "text/x-python",
   "name": "python",
   "nbconvert_exporter": "python",
   "pygments_lexer": "ipython3",
   "version": "3.9.7"
  }
 },
 "nbformat": 4,
 "nbformat_minor": 5
}
