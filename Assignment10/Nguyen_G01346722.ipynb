{
 "cells": [
  {
   "cell_type": "markdown",
   "metadata": {},
   "source": [
    "### AIT 580 DL3 - Assignment 10\n",
    "#### Student: Tuan Nguyen\n",
    "#### G number: G01346722"
   ]
  },
  {
   "cell_type": "code",
   "execution_count": 2,
   "metadata": {},
   "outputs": [
    {
     "name": "stdout",
     "output_type": "stream",
     "text": [
      "Completed\n"
     ]
    }
   ],
   "source": [
    "import pandas as pd\n",
    "\n",
    "data = pd.read_csv('D:/Work/GMU -US/Spring 2022/AIT 580/Nguyen_AIT580/AIT580-master/data/EmployeeAttrition.csv')\n",
    "print('Completed')"
   ]
  },
  {
   "cell_type": "code",
   "execution_count": 3,
   "metadata": {},
   "outputs": [
    {
     "name": "stdout",
     "output_type": "stream",
     "text": [
      "   Age Attrition     BusinessTravel  DailyRate              Department  \\\n",
      "0   41       Yes      Travel_Rarely       1102                   Sales   \n",
      "1   49        No  Travel_Frequently        279  Research & Development   \n",
      "2   37       Yes      Travel_Rarely       1373  Research & Development   \n",
      "3   33        No  Travel_Frequently       1392  Research & Development   \n",
      "4   27        No      Travel_Rarely        591  Research & Development   \n",
      "\n",
      "   DistanceFromHome  Education EducationField  EmployeeCount  EmployeeNumber  \\\n",
      "0                 1          2  Life Sciences              1               1   \n",
      "1                 8          1  Life Sciences              1               2   \n",
      "2                 2          2          Other              1               4   \n",
      "3                 3          4  Life Sciences              1               5   \n",
      "4                 2          1        Medical              1               7   \n",
      "\n",
      "   ...  RelationshipSatisfaction StandardHours  StockOptionLevel  \\\n",
      "0  ...                         1            80                 0   \n",
      "1  ...                         4            80                 1   \n",
      "2  ...                         2            80                 0   \n",
      "3  ...                         3            80                 0   \n",
      "4  ...                         4            80                 1   \n",
      "\n",
      "   TotalWorkingYears  TrainingTimesLastYear WorkLifeBalance  YearsAtCompany  \\\n",
      "0                  8                      0               1               6   \n",
      "1                 10                      3               3              10   \n",
      "2                  7                      3               3               0   \n",
      "3                  8                      3               3               8   \n",
      "4                  6                      3               3               2   \n",
      "\n",
      "  YearsInCurrentRole  YearsSinceLastPromotion  YearsWithCurrManager  \n",
      "0                  4                        0                     5  \n",
      "1                  7                        1                     7  \n",
      "2                  0                        0                     0  \n",
      "3                  7                        3                     0  \n",
      "4                  2                        2                     2  \n",
      "\n",
      "[5 rows x 35 columns]\n"
     ]
    }
   ],
   "source": [
    "print(data.head())"
   ]
  },
  {
   "cell_type": "code",
   "execution_count": 4,
   "metadata": {},
   "outputs": [
    {
     "name": "stdout",
     "output_type": "stream",
     "text": [
      "   Age Attrition     BusinessTravel  DailyRate              Department  \\\n",
      "0   41       Yes      Travel_Rarely       1102                   Sales   \n",
      "1   49        No  Travel_Frequently        279  Research & Development   \n",
      "2   37       Yes      Travel_Rarely       1373  Research & Development   \n",
      "3   33        No  Travel_Frequently       1392  Research & Development   \n",
      "4   27        No      Travel_Rarely        591  Research & Development   \n",
      "\n",
      "   DistanceFromHome  Education EducationField  EmployeeCount  EmployeeNumber  \\\n",
      "0                 1          2  Life Sciences              1               1   \n",
      "1                 8          1  Life Sciences              1               2   \n",
      "2                 2          2          Other              1               4   \n",
      "3                 3          4  Life Sciences              1               5   \n",
      "4                 2          1        Medical              1               7   \n",
      "\n",
      "   ...  RelationshipSatisfaction StandardHours  StockOptionLevel  \\\n",
      "0  ...                         1            80                 0   \n",
      "1  ...                         4            80                 1   \n",
      "2  ...                         2            80                 0   \n",
      "3  ...                         3            80                 0   \n",
      "4  ...                         4            80                 1   \n",
      "\n",
      "   TotalWorkingYears  TrainingTimesLastYear WorkLifeBalance  YearsAtCompany  \\\n",
      "0                  8                      0               1               6   \n",
      "1                 10                      3               3              10   \n",
      "2                  7                      3               3               0   \n",
      "3                  8                      3               3               8   \n",
      "4                  6                      3               3               2   \n",
      "\n",
      "  YearsInCurrentRole  YearsSinceLastPromotion  YearsWithCurrManager  \n",
      "0                  4                        0                     5  \n",
      "1                  7                        1                     7  \n",
      "2                  0                        0                     0  \n",
      "3                  7                        3                     0  \n",
      "4                  2                        2                     2  \n",
      "\n",
      "[5 rows x 35 columns]\n"
     ]
    }
   ],
   "source": [
    "#Check the head of the DataFrame.\n",
    "print(data.head())"
   ]
  },
  {
   "cell_type": "code",
   "execution_count": 10,
   "metadata": {},
   "outputs": [
    {
     "name": "stdout",
     "output_type": "stream",
     "text": [
      "Number of rows: 1470\n",
      "Number of columns: 35\n"
     ]
    }
   ],
   "source": [
    "#Q1: Find the number of entries/rows and columns in the data.\n",
    "print('Number of rows:',len(data.index))\n",
    "print('Number of columns:',len(data.columns))"
   ]
  },
  {
   "cell_type": "code",
   "execution_count": 15,
   "metadata": {},
   "outputs": [
    {
     "name": "stdout",
     "output_type": "stream",
     "text": [
      "Average Monthly Income: 6502.931292517007\n"
     ]
    }
   ],
   "source": [
    "#Q2: What is the average Monthly Income?\n",
    "print('Average Monthly Income:',data['MonthlyIncome'].mean())"
   ]
  },
  {
   "cell_type": "code",
   "execution_count": 17,
   "metadata": {},
   "outputs": [
    {
     "name": "stdout",
     "output_type": "stream",
     "text": [
      "Highest Hourly Rate: 100\n"
     ]
    }
   ],
   "source": [
    "#Q3: What is the highest amount of HourlyRate ?\n",
    "print('Highest Hourly Rate:',data['HourlyRate'].max())"
   ]
  },
  {
   "cell_type": "code",
   "execution_count": 27,
   "metadata": {},
   "outputs": [
    {
     "name": "stdout",
     "output_type": "stream",
     "text": [
      "Department: Research & Development\n",
      "JobRole: Laboratory Technician\n",
      "MaritalStatus: Married\n",
      "OverTime: Yes\n"
     ]
    }
   ],
   "source": [
    "#Q4: What is the Department, JobRole, MaritalStatus and OverTime of EmployeeNumber 10?\n",
    "\n",
    "#Get index value of targeted row, function return an array of 1, get 1st number of that array\n",
    "x = data[data['EmployeeNumber'] == 10].index.values.astype(int)[0]\n",
    "\n",
    "print('Department:',data.iloc[x]['Department'])\n",
    "print('JobRole:',data.iloc[x]['JobRole'])\n",
    "print('MaritalStatus:',data.iloc[x]['MaritalStatus'])\n",
    "print('OverTime:',data.iloc[x]['OverTime'])"
   ]
  },
  {
   "cell_type": "code",
   "execution_count": 37,
   "metadata": {},
   "outputs": [
    {
     "name": "stdout",
     "output_type": "stream",
     "text": [
      "Employee ID: 259\n"
     ]
    }
   ],
   "source": [
    "#Q5: What is the Employee ID of highest MonthlyIncome paid employee?\n",
    "\n",
    "#Get index value of targeted row\n",
    "x = data[data['MonthlyIncome'] == data['MonthlyIncome'].max()].index.values.astype(int)[0]\n",
    "\n",
    "print('Employee ID:',data.iloc[x]['EmployeeNumber'])"
   ]
  },
  {
   "cell_type": "code",
   "execution_count": 54,
   "metadata": {},
   "outputs": [
    {
     "name": "stdout",
     "output_type": "stream",
     "text": [
      "Mean DailyRate of employees older than 58: 939.2666666666667\n"
     ]
    }
   ],
   "source": [
    "#Q6: What is the average(mean) DailyRate group by Age for all Employees whose age is greater than 58.\n",
    "\n",
    "grouped = data.groupby(data['Age'] > 58).agg({'DailyRate': 'mean'})\n",
    "print('Mean DailyRate of employees older than 58:',grouped.iloc[1][0])"
   ]
  },
  {
   "cell_type": "code",
   "execution_count": 57,
   "metadata": {},
   "outputs": [
    {
     "name": "stdout",
     "output_type": "stream",
     "text": [
      "Number of unique EducationField: 6\n"
     ]
    }
   ],
   "source": [
    "#Q7: How many unique EducationField are there?\n",
    "\n",
    "print('Number of unique EducationField:',len(data['EducationField'].unique()))"
   ]
  },
  {
   "cell_type": "code",
   "execution_count": 91,
   "metadata": {},
   "outputs": [
    {
     "name": "stdout",
     "output_type": "stream",
     "text": [
      "JobRole\n",
      "Sales Executive              326\n",
      "Research Scientist           292\n",
      "Laboratory Technician        259\n",
      "Manufacturing Director       145\n",
      "Healthcare Representative    131\n",
      "dtype: int64\n"
     ]
    }
   ],
   "source": [
    "#Q8: What are the top 5 most common JobRole?\n",
    "\n",
    "grouped = data.groupby(data['JobRole']).size()\n",
    "grouped = grouped.sort_values(ascending = False)\n",
    "print(grouped.iloc[:5,])"
   ]
  },
  {
   "cell_type": "code",
   "execution_count": 98,
   "metadata": {},
   "outputs": [
    {
     "name": "stdout",
     "output_type": "stream",
     "text": [
      "Number of JobRoles has less than 100 employees: 3\n"
     ]
    }
   ],
   "source": [
    "#Q9: How many JobRoles represented by less than 100 employees?\n",
    "\n",
    "grouped = data.groupby(data['JobRole']).size()\n",
    "print('Number of JobRoles has less than 100 employees:',sum(grouped < 100))\n",
    "#condition returns boolean, use sum since True = 1, False = 0 "
   ]
  },
  {
   "cell_type": "code",
   "execution_count": 110,
   "metadata": {},
   "outputs": [
    {
     "name": "stdout",
     "output_type": "stream",
     "text": [
      "Correlation between Education and JobSatisfaction: \n",
      "Pearson: -0.011296116736573911 \n",
      "Kendall: -0.004297219184011764 \n",
      "Spearman: -0.005175468670271538\n",
      "Result shows no correlation between the two\n"
     ]
    }
   ],
   "source": [
    "#Q10: What is the correlation between Education and JobSatisfaction?\n",
    "\n",
    "x = data['Education'].corr(data['JobSatisfaction'], method = 'pearson')\n",
    "y = data['Education'].corr(data['JobSatisfaction'], method = 'kendall')\n",
    "z = data['Education'].corr(data['JobSatisfaction'], method = 'spearman')\n",
    "print('Correlation between Education and JobSatisfaction: \\nPearson:',x,'\\nKendall:',y,'\\nSpearman:',z)\n",
    "print('Result shows no correlation between the two')"
   ]
  }
 ],
 "metadata": {
  "kernelspec": {
   "display_name": "Python 3 (ipykernel)",
   "language": "python",
   "name": "python3"
  },
  "language_info": {
   "codemirror_mode": {
    "name": "ipython",
    "version": 3
   },
   "file_extension": ".py",
   "mimetype": "text/x-python",
   "name": "python",
   "nbconvert_exporter": "python",
   "pygments_lexer": "ipython3",
   "version": "3.9.7"
  }
 },
 "nbformat": 4,
 "nbformat_minor": 2
}
